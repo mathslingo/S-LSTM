{
 "cells": [
  {
   "cell_type": "markdown",
   "metadata": {},
   "source": [
    "# SLSTMCell"
   ]
  },
  {
   "cell_type": "markdown",
   "metadata": {},
   "source": [
    "## SLSTMCell 定义"
   ]
  },
  {
   "cell_type": "code",
   "execution_count": 1,
   "metadata": {
    "code_folding": []
   },
   "outputs": [],
   "source": [
    "import tensorflow as tf\n",
    "\n",
    "from tensorflow.python.distribute import distribution_strategy_context as ds_context\n",
    "from tensorflow.python.eager import context\n",
    "from tensorflow.python.framework import ops\n",
    "from tensorflow.python.framework import tensor_shape\n",
    "from tensorflow.python.keras import activations\n",
    "from tensorflow.python.keras import backend as K\n",
    "from tensorflow.python.keras import constraints\n",
    "from tensorflow.python.keras import initializers\n",
    "from tensorflow.python.keras import regularizers\n",
    "from tensorflow.python.keras.engine.base_layer import Layer\n",
    "from tensorflow.python.keras.engine.input_spec import InputSpec\n",
    "from tensorflow.python.keras.utils import generic_utils\n",
    "from tensorflow.python.keras.utils import tf_utils\n",
    "from tensorflow.python.ops import array_ops\n",
    "from tensorflow.python.ops import control_flow_ops\n",
    "from tensorflow.python.ops import control_flow_util\n",
    "from tensorflow.python.ops import math_ops\n",
    "from tensorflow.python.ops import state_ops\n",
    "from tensorflow.python.platform import tf_logging as logging\n",
    "from tensorflow.python.training.tracking import base as trackable\n",
    "from tensorflow.python.training.tracking import data_structures\n",
    "from tensorflow.python.util import nest\n",
    "from tensorflow.python.util.tf_export import keras_export\n",
    "from tensorflow.tools.docs import doc_controls\n",
    "\n",
    "class SLSTMCell(tf.keras.layers.Layer):\n",
    "    \"\"\"\n",
    "    继承Layer并重载了5个函数，参照TF中LSTMCell源码并做了修改，源码见第 6.3.1.3 节（上一节）\n",
    "    随机遮挡来自类DropoutRNNCellMixin\n",
    "    \"\"\"\n",
    "    \n",
    "    def __init__(self,\n",
    "                   units,\n",
    "                   activation='tanh',\n",
    "                   recurrent_activation='hard_sigmoid',\n",
    "                   use_bias=True,\n",
    "                   kernel_initializer='glorot_uniform',\n",
    "                   recurrent_initializer='orthogonal',\n",
    "                   bias_initializer='zeros',\n",
    "                   unit_forget_bias=True,\n",
    "                   kernel_regularizer=None,\n",
    "                   recurrent_regularizer=None,\n",
    "                   bias_regularizer=None,\n",
    "                   kernel_constraint=None,\n",
    "                   recurrent_constraint=None,\n",
    "                   bias_constraint=None,\n",
    "                   dropout=0.,\n",
    "                   recurrent_dropout=0.,\n",
    "                   implementation=1,\n",
    "                   **kwargs):\n",
    "        #print(\"init start\")\n",
    "        self._enable_caching_device = kwargs.pop('enable_caching_device', False)\n",
    "        super(SLSTMCell, self).__init__(**kwargs)\n",
    "        self.num_gates = 6\n",
    "        self.units = units\n",
    "        self.activation = activations.get(activation)\n",
    "        self.recurrent_activation = activations.get(recurrent_activation)\n",
    "        self.use_bias = use_bias\n",
    "\n",
    "        self.kernel_initializer = initializers.get(kernel_initializer)\n",
    "        self.recurrent_initializer = initializers.get(recurrent_initializer)\n",
    "        self.bias_initializer = initializers.get(bias_initializer)\n",
    "        self.unit_forget_bias = unit_forget_bias\n",
    "\n",
    "        self.kernel_regularizer = regularizers.get(kernel_regularizer)\n",
    "        self.recurrent_regularizer = regularizers.get(recurrent_regularizer)\n",
    "        self.bias_regularizer = regularizers.get(bias_regularizer)\n",
    "\n",
    "        self.kernel_constraint = constraints.get(kernel_constraint)\n",
    "        self.recurrent_constraint = constraints.get(recurrent_constraint)\n",
    "        self.bias_constraint = constraints.get(bias_constraint)\n",
    "\n",
    "        self.dropout = min(1., max(0., dropout))\n",
    "        self.recurrent_dropout = min(1., max(0., recurrent_dropout))\n",
    "        if self.recurrent_dropout != 0 and implementation != 1:\n",
    "            logging.debug(RECURRENT_DROPOUT_WARNING_MSG)\n",
    "            self.implementation = 1\n",
    "        else:\n",
    "            self.implementation = implementation\n",
    "        # tuple(_ListWrapper) was silently dropping list content in at least 2.7.10,\n",
    "        # and fixed after 2.7.16. Converting the state_size to wrapper around\n",
    "        # NoDependency(), so that the base_layer.__setattr__ will not convert it to\n",
    "        # ListWrapper. Down the stream, self.states will be a list since it is\n",
    "        # generated from nest.map_structure with list, and tuple(list) will work\n",
    "        # properly.\n",
    "        self.state_size = data_structures.NoDependency([self.units, self.units])\n",
    "        self.output_size = self.units\n",
    "        \n",
    "        self.SeasonalGate = False\n",
    "        \n",
    "        #print(\"init end\")\n",
    "\n",
    "    \n",
    "    \n",
    "    @tf_utils.shape_type_conversion\n",
    "    def build(self, input_shape):\n",
    "        print(\"build start\")\n",
    "\n",
    "        input_dim = input_shape[-1]\n",
    "        self.kernel = self.add_weight(\n",
    "            # W_x: 用于和当前时刻隐层输入x做乘法的矩阵\n",
    "            # 加入季节门，将self.units * 4改为self.units * 6 \n",
    "            # 这里\n",
    "            shape=(input_dim, self.units * self.num_gates),\n",
    "            name='kernel',\n",
    "            initializer=self.kernel_initializer,\n",
    "            regularizer=self.kernel_regularizer,\n",
    "            constraint=self.kernel_constraint)\n",
    "\n",
    "        self.recurrent_kernel = self.add_weight(\n",
    "            # W_h: 用于和前一时刻隐层输出h做乘法的矩阵\n",
    "            # 加入季节门，将self.units * 4改为self.units * 6\n",
    "            shape=(self.units, self.units * self.num_gates),\n",
    "            name='recurrent_kernel',\n",
    "            initializer=self.recurrent_initializer,\n",
    "            regularizer=self.recurrent_regularizer,\n",
    "            constraint=self.recurrent_constraint)\n",
    "\n",
    "\n",
    "        if self.use_bias:\n",
    "            if self.unit_forget_bias:\n",
    "\n",
    "                def bias_initializer(_, *args, **kwargs):\n",
    "                    return K.concatenate([\n",
    "                          self.bias_initializer((self.units,), *args, **kwargs),\n",
    "                          initializers.Ones()((self.units,), *args, **kwargs),\n",
    "                          self.bias_initializer((self.units * (self.num_gates - 2),), *args, **kwargs),\n",
    "                      ])\n",
    "            else:\n",
    "                bias_initializer = self.bias_initializer\n",
    "            \n",
    "            self.bias = self.add_weight(\n",
    "                  shape=(self.units * self.num_gates,),\n",
    "                  name='bias',\n",
    "                  initializer=bias_initializer,\n",
    "                  regularizer=self.bias_regularizer,\n",
    "                  constraint=self.bias_constraint)\n",
    "\n",
    "        else:\n",
    "            self.bias = None\n",
    "        self.built = True\n",
    "        print(\"build end\")\n",
    "\n",
    "\n",
    "    def _compute_carry_and_output(self, x, h_tm1, c_tm1):\n",
    "        \"\"\"Computes carry and output using split kernels.\"\"\"\n",
    "        '''\n",
    "        模式1\n",
    "        采用分离法计算各个门控单元的值\n",
    "        本模式尝试将选通器的判断方法调整为h_tm1和x\n",
    "        本方法中x,h_tm1,c_tm1均为各个门加mask后拼成的元组，故需要多传多\n",
    "        模式1中的x是 Wx+b \n",
    "        '''\n",
    "        x_i, x_f, x_c, x_o, x_s1, x_s2 = x\n",
    "        h_tm1_i, h_tm1_f, h_tm1_c, h_tm1_o, h_tm1_s1, h_tm1_s2 = h_tm1\n",
    "        i = self.recurrent_activation(\n",
    "            x_i + K.dot(h_tm1_i, self.recurrent_kernel[:, :self.units]))\n",
    "        f = self.recurrent_activation(x_f + K.dot(\n",
    "            h_tm1_f, self.recurrent_kernel[:, self.units:self.units * 2]))\n",
    "        \n",
    "        # 季节门\n",
    "        \n",
    "        sdB2 = 1.82\n",
    "        sd = 2.41\n",
    "        sdT2 = 3.58\n",
    "\n",
    "        # 季节门1【改】\n",
    "        s1 = K.tanh(x_s1 + K.dot(\n",
    "            h_tm1_s1, self.recurrent_kernel[:, self.units * 4:self.units * 5]))\n",
    "        # 季节门2【改】\n",
    "        s2 = self.recurrent_activation(x_s2 + K.dot(\n",
    "            h_tm1_s2, self.recurrent_kernel[:, self.units * 5:]))\n",
    "        # 方案1*\n",
    "        SGate = K.max(x_s1) - K.min(x_s1) > 1.82\n",
    "        if SGate:\n",
    "        # 方案1\n",
    "        #if self.SeasonalGate:\n",
    "            \n",
    "            c = f * c_tm1 * s1 + i * self.activation(x_c + K.dot(\n",
    "                h_tm1_c, self.recurrent_kernel[:, self.units * 2:self.units * 3]))\n",
    "            o = self.recurrent_activation(\n",
    "                x_o + K.dot(h_tm1_o, self.recurrent_kernel[:, self.units * 3:self.units * 4]))\n",
    "        else:\n",
    "            c = f * c_tm1 * s2 + i * self.activation(x_c + K.dot(\n",
    "                h_tm1_c, self.recurrent_kernel[:, self.units * 2:self.units * 3]))\n",
    "            o = self.recurrent_activation(\n",
    "                x_o + K.dot(h_tm1_o, self.recurrent_kernel[:, self.units * 3:self.units * 4]))\n",
    "\n",
    "        return c, o\n",
    "\n",
    "    def _compute_carry_and_output_fused(self, z, c_tm1):\n",
    "        \"\"\"\n",
    "        模式2\n",
    "        Computes carry and output using fused kernels.\n",
    "        使用合并向量的计算方法\n",
    "        \"\"\"\n",
    "        \n",
    "        z0, z1, z2, z3, z4, z5 = z\n",
    "        i = self.recurrent_activation(z0)\n",
    "        f = self.recurrent_activation(z1)\n",
    "        \n",
    "        #季节门\n",
    "        sdB4 = 0.2828\n",
    "        sdB2 = 0.5102\n",
    "        sd = 0.7975\n",
    "        sdT2 = 0.9501\n",
    "        #if True:\n",
    "        if K.max(K.softmax(c_tm1)) - K.min(K.softmax(c_tm1)) > 0.2828: #【改】\n",
    "            #季节门1【改】\n",
    "            s = self.recurrent_activation(z4)\n",
    "            #s = K.square(s)\n",
    "        else:\n",
    "            #季节门2【改】\n",
    "            s = self.recurrent_activation(z5)\n",
    "            \n",
    "        #c = f * c_tm1 + i * self.activation(z2)\n",
    "        c = f * c_tm1 * s + i * self.activation(z2)\n",
    "        o = self.recurrent_activation(z3)\n",
    "        return c, o\n",
    "\n",
    "    def call(self, inputs, states, training=None):\n",
    "        num_gates = 6\n",
    "        h_tm1 = states[0]  # previous memory state\n",
    "        c_tm1 = states[1]  # previous carry state\n",
    "\n",
    "        #dp_mask = self.get_dropout_mask_for_cell(inputs, training, count=num_gates)\n",
    "        \n",
    "        #rec_dp_mask = self.get_recurrent_dropout_mask_for_cell(\n",
    "        #    h_tm1, training, count=num_gates)\n",
    "\n",
    "        if self.implementation == 1:\n",
    "            '''\n",
    "            implementation是计算模式，1或者2\n",
    "            '''\n",
    "            if  K.mean(inputs) > 1 : #即inputs值大于1倍标准差\n",
    "                self.SeasonalGate = True\n",
    "\n",
    "            if 0 < self.dropout < 1.:\n",
    "                inputs_i = inputs * dp_mask[0]\n",
    "                inputs_f = inputs * dp_mask[1]\n",
    "                inputs_c = inputs * dp_mask[2]\n",
    "                inputs_o = inputs * dp_mask[3]\n",
    "                inputs_s1 = inputs * dp_mask[4]\n",
    "                inputs_s2 = inputs * dp_mask[5]\n",
    "            else:\n",
    "                inputs_i = inputs\n",
    "                inputs_f = inputs\n",
    "                inputs_c = inputs\n",
    "                inputs_o = inputs\n",
    "                inputs_s1 = inputs\n",
    "                inputs_s2 = inputs\n",
    "            k_i, k_f, k_c, k_o, k_s1, k_s2 = array_ops.split(\n",
    "                  self.kernel, num_or_size_splits=6, axis=1)\n",
    "            x_i = K.dot(inputs_i, k_i)\n",
    "            x_f = K.dot(inputs_f, k_f)\n",
    "            x_c = K.dot(inputs_c, k_c)\n",
    "            x_o = K.dot(inputs_o, k_o)\n",
    "            x_s1 = K.dot(inputs_o, k_s1)\n",
    "            x_s2 = K.dot(inputs_o, k_s2)\n",
    "            if self.use_bias:\n",
    "                b_i, b_f, b_c, b_o, b_s1, b_s2 = array_ops.split(\n",
    "                    self.bias, num_or_size_splits=6, axis=0)\n",
    "                x_i = K.bias_add(x_i, b_i)\n",
    "                x_f = K.bias_add(x_f, b_f)\n",
    "                x_c = K.bias_add(x_c, b_c)\n",
    "                x_o = K.bias_add(x_o, b_o)\n",
    "                x_s1 = K.bias_add(x_o, b_s1)\n",
    "                x_s2 = K.bias_add(x_o, b_s2)\n",
    "\n",
    "            if 0 < self.recurrent_dropout < 1.:\n",
    "                h_tm1_i = h_tm1 * rec_dp_mask[0]\n",
    "                h_tm1_f = h_tm1 * rec_dp_mask[1]\n",
    "                h_tm1_c = h_tm1 * rec_dp_mask[2]\n",
    "                h_tm1_o = h_tm1 * rec_dp_mask[3]\n",
    "                h_tm1_s1 = h_tm1 * rec_dp_mask[4]\n",
    "                h_tm1_s2 = h_tm1 * rec_dp_mask[5]\n",
    "            else:\n",
    "                h_tm1_i = h_tm1\n",
    "                h_tm1_f = h_tm1\n",
    "                h_tm1_c = h_tm1\n",
    "                h_tm1_o = h_tm1\n",
    "                h_tm1_s1 = h_tm1\n",
    "                h_tm1_s2 = h_tm1\n",
    "            x = (x_i, x_f, x_c, x_o, x_s1, x_s2)\n",
    "            h_tm1 = (h_tm1_i, h_tm1_f, h_tm1_c, h_tm1_o,h_tm1_s1,h_tm1_s2)\n",
    "            c, o = self._compute_carry_and_output(x, h_tm1, c_tm1)\n",
    "        else:\n",
    "            # 模式2\n",
    "            # 以下为使用随机遮挡的方法\n",
    "            if 0. < self.dropout < 1.:\n",
    "                inputs = inputs * dp_mask[0]\n",
    "            \n",
    "            z = K.dot(inputs, self.kernel)\n",
    "            #不是z = K.dot(self.kernel, inputs)，因为x_t是行向量\n",
    "            z += K.dot(h_tm1,self.recurrent_kernel)\n",
    "            #不是z += K.dot(self.recurrent_kernel, h_tm1)，因为x_t是行向量\n",
    "            if self.use_bias:\n",
    "                z = K.bias_add(z, self.bias)\n",
    "            \n",
    "            z = array_ops.split(z, num_or_size_splits=num_gates, axis=1)\n",
    "            c, o = self._compute_carry_and_output_fused(z, c_tm1)\n",
    "\n",
    "        h = o * self.activation(c)\n",
    "        return h, [h, c]\n",
    "    \n",
    "    def get_config(self):\n",
    "        print(\"config start\")\n",
    "\n",
    "        config = {\n",
    "            'units':\n",
    "                self.units,\n",
    "            'activation':\n",
    "                activations.serialize(self.activation),\n",
    "            'recurrent_activation':\n",
    "                activations.serialize(self.recurrent_activation),\n",
    "            'use_bias':\n",
    "                self.use_bias,\n",
    "            'kernel_initializer':\n",
    "                initializers.serialize(self.kernel_initializer),\n",
    "            'recurrent_initializer':\n",
    "                initializers.serialize(self.recurrent_initializer),\n",
    "            'bias_initializer':\n",
    "                initializers.serialize(self.bias_initializer),\n",
    "            'unit_forget_bias':\n",
    "                self.unit_forget_bias,\n",
    "            'kernel_regularizer':\n",
    "                regularizers.serialize(self.kernel_regularizer),\n",
    "            'recurrent_regularizer':\n",
    "                regularizers.serialize(self.recurrent_regularizer),\n",
    "            'bias_regularizer':\n",
    "                regularizers.serialize(self.bias_regularizer),\n",
    "            'kernel_constraint':\n",
    "                constraints.serialize(self.kernel_constraint),\n",
    "            'recurrent_constraint':\n",
    "                constraints.serialize(self.recurrent_constraint),\n",
    "            'bias_constraint':\n",
    "                constraints.serialize(self.bias_constraint),\n",
    "            'dropout':\n",
    "                self.dropout,\n",
    "            'recurrent_dropout':\n",
    "                self.recurrent_dropout,\n",
    "            'implementation':\n",
    "                self.implementation\n",
    "        }\n",
    "        base_config = super(SLSTMCell, self).get_config()\n",
    "        print(\"config end\")\n",
    "        return dict(list(base_config.items()) + list(config.items()))\n",
    "        \n",
    "\n",
    "    '''\n",
    "    def get_initial_state(self, inputs=None, batch_size=None, dtype=None):\n",
    "        return list(_generate_zero_filled_state_for_cell(\n",
    "            self, inputs, batch_size, dtype))\n",
    "    \n",
    "    '''\n",
    "    "
   ]
  },
  {
   "cell_type": "code",
   "execution_count": 56,
   "metadata": {},
   "outputs": [],
   "source": [
    "import tensorflow as tf\n",
    "\n",
    "import matplotlib as mpl\n",
    "import matplotlib.pyplot as plt\n",
    "import numpy as np\n",
    "import os\n",
    "import pandas as pd\n",
    "\n",
    "filename = \"stock_sh.csv\"\n",
    "f=open(filename,encoding='UTF-8')\n",
    "names=['Date','Close','Open','High','Low']\n",
    "df = pd.read_csv(f,header=0)\n",
    "df = df[names]\n",
    "#df = df.set_index(\"Date\", drop = True)\n",
    "#df = df.set_index(\"Date\")\n",
    "#print(data[0])\n",
    "#df.head()\n",
    "def univariate_data(dataset, start_index, end_index, history_size, target_size):\n",
    "    data = []\n",
    "    labels = []\n",
    "\n",
    "    start_index = start_index + history_size\n",
    "    if end_index is None:\n",
    "        end_index = len(dataset) - target_size\n",
    "\n",
    "    for i in range(start_index, end_index):\n",
    "        indices = range(i-history_size, i)\n",
    "        # Reshape data from (history_size,) to (history_size, 1)\n",
    "        data.append(np.reshape(dataset[indices], (history_size, 1)))\n",
    "        labels.append(dataset[i+target_size])\n",
    "    return np.array(data), np.array(labels)\n",
    "\n",
    "TRAIN_SPLIT = 800 #这里应该改为1220*0.8\n",
    "tf.random.set_seed(13)\n",
    "uni_data = df['Close']\n",
    "uni_data.index = df['Date']\n",
    "uni_data.head()\n",
    "uni_data = uni_data.values\n",
    "#print(uni_data[1])\n",
    "#print(len(uni_data))\n",
    "uni_train_mean = uni_data[:TRAIN_SPLIT].mean()\n",
    "uni_train_std = uni_data[:TRAIN_SPLIT].std()\n",
    "uni_data = (uni_data-uni_train_mean)/uni_train_std\n",
    "#print(uni_data[0:24])\n",
    "#print(uni_data[19])\n",
    "#print(uni_data[20])\n",
    "\n",
    "univariate_past_history = 60\n",
    "univariate_future_target = 0\n",
    "\n",
    "x_train_uni, y_train_uni = univariate_data(uni_data, 0, TRAIN_SPLIT,\n",
    "                                           univariate_past_history,\n",
    "                                           univariate_future_target)\n",
    "x_val_uni, y_val_uni = univariate_data(uni_data, TRAIN_SPLIT, None,\n",
    "                                       univariate_past_history,\n",
    "                                       univariate_future_target)\n",
    "def create_time_steps(length):\n",
    "    return list(range(-length, 0))\n",
    "\n",
    "BATCH_SIZE = 25 #降低批容量，提高训练批次\n",
    "BUFFER_SIZE = 1000\n",
    "\n",
    "train_univariate = tf.data.Dataset.from_tensor_slices((x_train_uni, y_train_uni))\n",
    "train_univariate = train_univariate.cache().shuffle(BUFFER_SIZE).batch(BATCH_SIZE).repeat()\n",
    "\n",
    "val_univariate = tf.data.Dataset.from_tensor_slices((x_val_uni, y_val_uni))\n",
    "val_univariate = val_univariate.batch(BATCH_SIZE).repeat()\n"
   ]
  },
  {
   "cell_type": "code",
   "execution_count": 57,
   "metadata": {},
   "outputs": [
    {
     "name": "stdout",
     "output_type": "stream",
     "text": [
      "(740, 60, 1)\n",
      "(740,)\n"
     ]
    }
   ],
   "source": [
    "print(x_train_uni.shape)\n",
    "print(y_train_uni.shape)"
   ]
  },
  {
   "cell_type": "markdown",
   "metadata": {},
   "source": [
    "## S-LSTM建立\n",
    "`dynamic = True`是指什么？尚不得而知。\n",
    "\n",
    "TypeError: You are attempting to use Python control flow in a layer that was not declared to be dynamic. Pass `dynamic=True` to the class constructor. Encountered error:"
   ]
  },
  {
   "cell_type": "code",
   "execution_count": 133,
   "metadata": {},
   "outputs": [],
   "source": [
    "SLSTMLayer = tf.keras.layers.RNN(\n",
    "    SLSTMCell(8,implementation=1,dropout=0.,use_bias=1), \n",
    "    input_shape = x_train_uni.shape[-2:], \n",
    "    dynamic=True)"
   ]
  },
  {
   "cell_type": "code",
   "execution_count": 134,
   "metadata": {},
   "outputs": [
    {
     "name": "stdout",
     "output_type": "stream",
     "text": [
      "build start\n",
      "build end\n"
     ]
    }
   ],
   "source": [
    "slstm_model = tf.keras.models.Sequential([\n",
    "    #tf.keras.layers.RNN(SLSTMCell(8,implementation=1,dropout=0.)),\n",
    "    SLSTMLayer,\n",
    "    #print(\"dense start\")\n",
    "    tf.keras.layers.Dense(1)\n",
    "    #print(\"dense end\")\n",
    "\n",
    "])"
   ]
  },
  {
   "cell_type": "code",
   "execution_count": 135,
   "metadata": {},
   "outputs": [],
   "source": [
    "slstm_model.compile(optimizer='adam', loss='mape')"
   ]
  },
  {
   "cell_type": "code",
   "execution_count": 136,
   "metadata": {},
   "outputs": [
    {
     "name": "stdout",
     "output_type": "stream",
     "text": [
      "(25, 1)\n",
      "Train for 300 steps, validate for 50 steps\n",
      "Epoch 1/10\n",
      "300/300 [==============================] - 212s 707ms/step - loss: 72.1458 - val_loss: 17.5060\n",
      "Epoch 2/10\n",
      "300/300 [==============================] - 210s 700ms/step - loss: 51.3596 - val_loss: 14.9800\n",
      "Epoch 3/10\n",
      "300/300 [==============================] - 211s 704ms/step - loss: 49.6515 - val_loss: 14.2941\n",
      "Epoch 4/10\n",
      "300/300 [==============================] - 210s 700ms/step - loss: 47.7482 - val_loss: 11.2121\n",
      "Epoch 5/10\n",
      "300/300 [==============================] - 198s 661ms/step - loss: 46.0994 - val_loss: 10.4007\n",
      "Epoch 6/10\n",
      "300/300 [==============================] - 206s 686ms/step - loss: 44.3657 - val_loss: 9.4840\n",
      "Epoch 7/10\n",
      "300/300 [==============================] - 232s 772ms/step - loss: 44.1723 - val_loss: 8.9522\n",
      "Epoch 8/10\n",
      "300/300 [==============================] - 228s 760ms/step - loss: 43.7030 - val_loss: 8.6825\n",
      "Epoch 9/10\n",
      "300/300 [==============================] - 229s 763ms/step - loss: 42.1310 - val_loss: 8.3726\n",
      "Epoch 10/10\n",
      "300/300 [==============================] - 230s 765ms/step - loss: 42.3727 - val_loss: 8.0420\n"
     ]
    }
   ],
   "source": [
    "for x, y in val_univariate.take(1):\n",
    "    print(slstm_model.predict(x).shape)\n",
    "\n",
    "EVALUATION_INTERVAL = 300 #这个值对训练结果的影响很大\n",
    "EPOCHS = 10\n",
    "\n",
    "# 注意：如不重新声明model，继续训练，则相当于在原有基础上继续训练；\n",
    "# 如要重新训练，则须重新声明\n",
    "slstm_history = slstm_model.fit(train_univariate, epochs=EPOCHS,\n",
    "                      steps_per_epoch=EVALUATION_INTERVAL,\n",
    "                      validation_data=val_univariate, validation_steps=50)"
   ]
  },
  {
   "cell_type": "code",
   "execution_count": 50,
   "metadata": {},
   "outputs": [],
   "source": [
    "def plot_train_history(history, title):\n",
    "    loss = history.history['loss']\n",
    "    val_loss = history.history['val_loss']\n",
    "\n",
    "    epochs = range(len(loss))\n",
    "\n",
    "    plt.figure()\n",
    "\n",
    "    plt.plot(epochs, loss, 'b', label='Training loss')\n",
    "    plt.plot(epochs, val_loss, 'r', label='Validation loss')\n",
    "    plt.title(title)\n",
    "    plt.legend()\n",
    "\n",
    "    plt.show()"
   ]
  },
  {
   "cell_type": "code",
   "execution_count": 138,
   "metadata": {},
   "outputs": [
    {
     "data": {
      "image/png": "[encoded data removed]",
      "text/plain": [
       "<Figure size 432x288 with 1 Axes>"
      ]
     },
     "metadata": {
      "needs_background": "light"
     },
     "output_type": "display_data"
    }
   ],
   "source": [
    "plot_train_history(slstm_history,\n",
    "                   'univariate SLSTM Training and validation loss ')"
   ]
  },
  {
   "cell_type": "markdown",
   "metadata": {},
   "source": [
    "## 输出预测结果--sigmoid"
   ]
  },
  {
   "cell_type": "code",
   "execution_count": 139,
   "metadata": {},
   "outputs": [
    {
     "name": "stdout",
     "output_type": "stream",
     "text": [
      "Model: \"sequential_5\"\n",
      "_________________________________________________________________\n",
      "Layer (type)                 Output Shape              Param #   \n",
      "=================================================================\n",
      "rnn_6 (RNN)                  (None, 8)                 480       \n",
      "_________________________________________________________________\n",
      "dense_5 (Dense)              (None, 1)                 9         \n",
      "=================================================================\n",
      "Total params: 489\n",
      "Trainable params: 489\n",
      "Non-trainable params: 0\n",
      "_________________________________________________________________\n"
     ]
    }
   ],
   "source": [
    "slstm_model.summary()"
   ]
  },
  {
   "cell_type": "code",
   "execution_count": 140,
   "metadata": {},
   "outputs": [
    {
     "name": "stdout",
     "output_type": "stream",
     "text": [
      "[[-1.4402826]\n",
      " [-1.4315455]\n",
      " [-1.4953218]\n",
      " [-1.5004935]\n",
      " [-1.5235066]\n",
      " [-1.4757749]\n",
      " [-1.4908068]\n",
      " [-1.5344596]\n",
      " [-1.4495738]\n",
      " [-1.4028071]\n",
      " [-1.3963857]\n",
      " [-1.2553523]\n",
      " [-1.2809055]\n",
      " [-1.2178899]\n",
      " [-1.243371 ]\n",
      " [-1.1816534]\n",
      " [-1.3743479]\n",
      " [-1.3604305]\n",
      " [-1.3765738]\n",
      " [-1.6144888]\n",
      " [-1.5664258]\n",
      " [-1.6645675]\n",
      " [-1.6940875]\n",
      " [-1.6816528]\n",
      " [-1.7992566]]\n"
     ]
    }
   ],
   "source": [
    "for x, y in val_univariate.take(1):\n",
    "    print(slstm_model.predict(x))\n",
    "    #slstm_model"
   ]
  },
  {
   "cell_type": "code",
   "execution_count": 141,
   "metadata": {},
   "outputs": [
    {
     "data": {
      "text/plain": [
       "(360, 60, 1)"
      ]
     },
     "execution_count": 141,
     "metadata": {},
     "output_type": "execute_result"
    }
   ],
   "source": [
    "x_val_uni.shape"
   ]
  },
  {
   "cell_type": "code",
   "execution_count": 142,
   "metadata": {},
   "outputs": [
    {
     "data": {
      "text/plain": [
       "-1.4537593562977524"
      ]
     },
     "execution_count": 142,
     "metadata": {},
     "output_type": "execute_result"
    }
   ],
   "source": [
    "y_val_uni[0]"
   ]
  },
  {
   "cell_type": "code",
   "execution_count": 143,
   "metadata": {},
   "outputs": [],
   "source": [
    "#slstm_model.predict(x_val_uni[0])"
   ]
  },
  {
   "cell_type": "markdown",
   "metadata": {},
   "source": [
    "## 模型保存与调用\\数据保存"
   ]
  },
  {
   "cell_type": "code",
   "execution_count": 144,
   "metadata": {},
   "outputs": [],
   "source": [
    "# 将整个模型保存为HDF5文件\n",
    "#slstm_model.save('my_model.h5')"
   ]
  },
  {
   "cell_type": "code",
   "execution_count": 145,
   "metadata": {},
   "outputs": [],
   "source": [
    "# 重新创建完全相同的模型，包括其权重和优化程序--无法正常保存模型-与config的重载有关\n",
    "#new_model = tf.keras.models.load_model('my_model.h5',custom_objects={'SLSTMCell': SLSTMCell})\n",
    "#new_model = tf.keras.models.load_model('my_model.h5')\n",
    "#new_model.summary()"
   ]
  },
  {
   "cell_type": "code",
   "execution_count": 146,
   "metadata": {},
   "outputs": [],
   "source": [
    "#for x, y in val_univariate.take(1):\n",
    "#    print(new_model.predict(x))"
   ]
  },
  {
   "cell_type": "code",
   "execution_count": 147,
   "metadata": {},
   "outputs": [
    {
     "name": "stdout",
     "output_type": "stream",
     "text": [
      "15\n",
      "(360,)\n",
      "(360,)\n"
     ]
    }
   ],
   "source": [
    "validation_predict = np.array([])\n",
    "validation_real = np.array([])\n",
    "\n",
    "for x, y in val_univariate.take(int((1220-800-univariate_past_history)/BATCH_SIZE)+1):\n",
    "    res = slstm_model.predict(x)\n",
    "    res = np.transpose(res)#转置\n",
    "    y = np.transpose(y)\n",
    "    \n",
    "    validation_predict = np.concatenate([validation_predict, res[0]])#向量连接\n",
    "    validation_real = np.concatenate([validation_real, y])\n",
    "    \n",
    "print(validation_predict.shape) \n",
    "#之所以只有2批，因为测试集中刨去look_back=60, 1220-800-60=360，而批容量为256；\n",
    "#当批容量为25，则为360/\n",
    "#print(res)\n",
    "print(validation_real.shape)\n"
   ]
  },
  {
   "cell_type": "code",
   "execution_count": 148,
   "metadata": {},
   "outputs": [],
   "source": [
    "def recover_data(data, mean, std):\n",
    "    res = data * std + mean\n",
    "    return res"
   ]
  },
  {
   "cell_type": "code",
   "execution_count": 149,
   "metadata": {},
   "outputs": [
    {
     "name": "stdout",
     "output_type": "stream",
     "text": [
      "2711.701716080612\n",
      "2669.485\n"
     ]
    }
   ],
   "source": [
    "validation_predict = recover_data(validation_predict, uni_train_mean, uni_train_std)\n",
    "validation_real = recover_data(validation_real, uni_train_mean, uni_train_std)\n",
    "print(validation_predict[1])\n",
    "print(validation_real[1])"
   ]
  },
  {
   "cell_type": "code",
   "execution_count": 150,
   "metadata": {},
   "outputs": [
    {
     "name": "stdout",
     "output_type": "stream",
     "text": [
      "(360, 2)\n",
      "             0         1\n",
      "0  2708.004255  2702.301\n",
      "1  2711.701716  2669.485\n",
      "2  2684.712149  2664.800\n",
      "3  2682.523498  2656.110\n",
      "4  2672.784544  2686.578\n"
     ]
    }
   ],
   "source": [
    "import pandas as pd\n",
    "#data = np.array([np.transpose(validation_predict), np.transpose(validation_real)])\n",
    "data = np.array([validation_predict, validation_real])\n",
    "data = np.transpose(data)\n",
    "print(data.shape)\n",
    "#slstm_validation_result = pd.DataFrame(data, columns=c(\"predict\",\"real\"))\n",
    "slstm_validation_result = pd.DataFrame(data)\n",
    "print(slstm_validation_result.head())\n",
    "slstm_validation_result.to_csv(\"slstm_M1_sdb2_tanh.csv\",index=False)"
   ]
  },
  {
   "cell_type": "markdown",
   "metadata": {},
   "source": [
    "# 单变量多步预测"
   ]
  },
  {
   "cell_type": "code",
   "execution_count": 6,
   "metadata": {},
   "outputs": [
    {
     "data": {
      "text/plain": [
       "'\\nx_train_uni, y_train_uni = univariate_data(uni_data, 0, TRAIN_SPLIT,\\n                                           univariate_past_history,\\n                                           univariate_future_target)\\nx_val_uni, y_val_uni = univariate_data(uni_data, TRAIN_SPLIT, None,\\n                                       univariate_past_history,\\n                                       univariate_future_target)\\n\\ntrain_univariate = tf.data.Dataset.from_tensor_slices((x_train_uni, y_train_uni))\\ntrain_univariate = train_univariate.cache().shuffle(BUFFER_SIZE).batch(BATCH_SIZE).repeat()\\n\\nval_univariate = tf.data.Dataset.from_tensor_slices((x_val_uni, y_val_uni))\\nval_univariate = val_univariate.batch(BATCH_SIZE).repeat()\\n\\n'"
      ]
     },
     "execution_count": 6,
     "metadata": {},
     "output_type": "execute_result"
    }
   ],
   "source": [
    "import tensorflow as tf\n",
    "\n",
    "import matplotlib as mpl\n",
    "import matplotlib.pyplot as plt\n",
    "import numpy as np\n",
    "import os\n",
    "import pandas as pd\n",
    "\n",
    "filename = \"stock_sh.csv\"\n",
    "f=open(filename,encoding='UTF-8')\n",
    "names=['Date','Close','Open','High','Low']\n",
    "df = pd.read_csv(f,header=0)\n",
    "df = df[names]\n",
    "#df = df.set_index(\"Date\", drop = True)\n",
    "#df = df.set_index(\"Date\")\n",
    "#print(data[0])\n",
    "#df.head()\n",
    "def univariate_data(dataset, \n",
    "                    start_index, end_index, \n",
    "                    history_size, target_size, \n",
    "                    single_step=True):\n",
    "    '''\n",
    "    dataset: 自变量\n",
    "    start_index: 训练集或测试集的第一条所在行\n",
    "    end_index: 训练集或测试集的最后一条所在行\n",
    "    history_size: 输入网络的时间跨度，即RNN循环层长度\n",
    "    target_size: 远期预测的时间跨度，若为下一期，则为0\n",
    "    single_step: 是否单步预测\n",
    "    '''\n",
    "    data = []\n",
    "    labels = []\n",
    "\n",
    "    start_index = start_index + history_size\n",
    "    if end_index is None:\n",
    "        end_index = len(dataset) - target_size\n",
    "\n",
    "    for i in range(start_index, end_index):\n",
    "        indices = range(i-history_size, i)\n",
    "        # Reshape data from (history_size,) to (history_size, 1)\n",
    "        data.append(np.reshape(dataset[indices], (history_size, 1)))\n",
    "        #labels.append(dataset[i+target_size])\n",
    "        \n",
    "        if single_step:\n",
    "            labels.append(dataset[i+target_size])\n",
    "        else:\n",
    "            labels.append(dataset[i:i+target_size]) \n",
    "        \n",
    "    return np.array(data), np.array(labels)\n",
    "\n",
    "TRAIN_SPLIT = 800 #这里应该改为1220*0.8\n",
    "tf.random.set_seed(13)\n",
    "uni_data = df['Close']\n",
    "uni_data.index = df['Date']\n",
    "uni_data.head()\n",
    "uni_data = uni_data.values\n",
    "#print(uni_data[1])\n",
    "#print(len(uni_data))\n",
    "uni_train_mean = uni_data[:TRAIN_SPLIT].mean()\n",
    "uni_train_std = uni_data[:TRAIN_SPLIT].std()\n",
    "uni_data = (uni_data-uni_train_mean)/uni_train_std\n",
    "#print(uni_data[0:24])\n",
    "#print(uni_data[19])\n",
    "#print(uni_data[20])\n",
    "\n",
    "univariate_past_history = 60\n",
    "univariate_future_target = 5 \n",
    "#若要单变量单步预测预测下一天，则为0,同时sigle_step=True\n",
    "#单变量远期预测，若要跳过本周，则为5，同时sigle_step=True\n",
    "#若要单变量多步预测预测下一天，则为0,同时sigle_step=False\n",
    "\n",
    "\n",
    "def create_time_steps(length):\n",
    "    return list(range(-length, 0))\n",
    "\n",
    "BATCH_SIZE = 25\n",
    "BUFFER_SIZE = 1000\n",
    "'''\n",
    "x_train_uni, y_train_uni = univariate_data(uni_data, 0, TRAIN_SPLIT,\n",
    "                                           univariate_past_history,\n",
    "                                           univariate_future_target)\n",
    "x_val_uni, y_val_uni = univariate_data(uni_data, TRAIN_SPLIT, None,\n",
    "                                       univariate_past_history,\n",
    "                                       univariate_future_target)\n",
    "\n",
    "train_univariate = tf.data.Dataset.from_tensor_slices((x_train_uni, y_train_uni))\n",
    "train_univariate = train_univariate.cache().shuffle(BUFFER_SIZE).batch(BATCH_SIZE).repeat()\n",
    "\n",
    "val_univariate = tf.data.Dataset.from_tensor_slices((x_val_uni, y_val_uni))\n",
    "val_univariate = val_univariate.batch(BATCH_SIZE).repeat()\n",
    "\n",
    "'''\n"
   ]
  },
  {
   "cell_type": "code",
   "execution_count": 264,
   "metadata": {},
   "outputs": [],
   "source": [
    "past_history = univariate_past_history\n",
    "future_target = univariate_future_target\n",
    "dataset = uni_data\n",
    "x_train_multi, y_train_multi = univariate_data(dataset, 0,\n",
    "                                                TRAIN_SPLIT, past_history,\n",
    "                                                 future_target, single_step=False)\n",
    "x_val_multi, y_val_multi = univariate_data(dataset,\n",
    "                                             TRAIN_SPLIT, None, past_history,\n",
    "                                             future_target,single_step=False)"
   ]
  },
  {
   "cell_type": "code",
   "execution_count": 265,
   "metadata": {},
   "outputs": [
    {
     "name": "stdout",
     "output_type": "stream",
     "text": [
      "Single window of past history : (740, 60, 1)\n",
      "\n",
      "Target temperature to predict : (740, 5)\n"
     ]
    }
   ],
   "source": [
    "print ('Single window of past history : {}'.format(x_train_multi.shape))\n",
    "print ('\\nTarget temperature to predict : {}'.format(y_train_multi.shape))"
   ]
  },
  {
   "cell_type": "code",
   "execution_count": 266,
   "metadata": {},
   "outputs": [],
   "source": [
    "train_data_multi = tf.data.Dataset.from_tensor_slices((x_train_multi, y_train_multi))\n",
    "train_data_multi = train_data_multi.cache().shuffle(BUFFER_SIZE).batch(BATCH_SIZE).repeat()\n",
    "\n",
    "val_data_multi = tf.data.Dataset.from_tensor_slices((x_val_multi, y_val_multi))\n",
    "val_data_multi = val_data_multi.batch(BATCH_SIZE).repeat()"
   ]
  },
  {
   "cell_type": "code",
   "execution_count": 267,
   "metadata": {},
   "outputs": [],
   "source": [
    "def multi_step_plot(history, true_future, prediction):\n",
    "    plt.figure(figsize=(12, 6))\n",
    "    num_in = create_time_steps(len(history))\n",
    "    num_out = len(true_future)\n",
    "\n",
    "    plt.plot(num_in, np.array(history), label='History')\n",
    "    plt.plot(np.arange(num_out), np.array(true_future), 'bo',\n",
    "           label='True Future')\n",
    "    if prediction.any():\n",
    "        plt.plot(np.arange(num_out), np.array(prediction), 'ro',\n",
    "             label='Predicted Future')\n",
    "    plt.legend(loc='upper left')\n",
    "    plt.show()"
   ]
  },
  {
   "cell_type": "code",
   "execution_count": 268,
   "metadata": {},
   "outputs": [
    {
     "data": {
      "image/png": "[encoded data removed]",
      "text/plain": [
       "<Figure size 864x432 with 1 Axes>"
      ]
     },
     "metadata": {
      "needs_background": "light"
     },
     "output_type": "display_data"
    }
   ],
   "source": [
    "for x, y in train_data_multi.take(1):\n",
    "    multi_step_plot(x[0], y[0],np.array([0]))"
   ]
  },
  {
   "cell_type": "code",
   "execution_count": 190,
   "metadata": {},
   "outputs": [
    {
     "data": {
      "text/plain": [
       "'\\nSLSTMLayer = tf.keras.layers.RNN(\\n    SLSTMCell(8,implementation=1,dropout=0.,use_bias=1), \\n    input_shape = x_train_uni.shape[-2:], \\n    dynamic=True)\\n'"
      ]
     },
     "execution_count": 190,
     "metadata": {},
     "output_type": "execute_result"
    }
   ],
   "source": [
    "'''\n",
    "SLSTMLayer = tf.keras.layers.RNN(\n",
    "    SLSTMCell(8,implementation=1,dropout=0.,use_bias=1), \n",
    "    input_shape = x_train_uni.shape[-2:], \n",
    "    dynamic=True)\n",
    "'''"
   ]
  },
  {
   "cell_type": "code",
   "execution_count": 191,
   "metadata": {},
   "outputs": [
    {
     "name": "stdout",
     "output_type": "stream",
     "text": [
      "build start\n",
      "build end\n",
      "build start\n",
      "build end\n"
     ]
    }
   ],
   "source": [
    "# 多步预测使用两层LSTM，第一次为32维输出，第二层为16层输出\n",
    "# 模式2为c, 模式1为x或h\n",
    "multi_step_model = tf.keras.models.Sequential([\n",
    "    tf.keras.layers.RNN(\n",
    "        SLSTMCell(32,implementation=1,dropout=0.,use_bias=1),\n",
    "        return_sequences=True,\n",
    "        input_shape = x_train_multi.shape[-2:], \n",
    "        dynamic=True),\n",
    "    tf.keras.layers.RNN(\n",
    "        SLSTMCell(16,implementation=1,dropout=0.,use_bias=1), #可对activation进行调整\n",
    "        dynamic=True),\n",
    "    tf.keras.layers.Dense(future_target)\n",
    "\n",
    "])\n"
   ]
  },
  {
   "cell_type": "code",
   "execution_count": 192,
   "metadata": {},
   "outputs": [],
   "source": [
    "'''\n",
    "multi_step_model = tf.keras.models.Sequential()\n",
    "multi_step_model.add(tf.keras.layers.LSTM(32,\n",
    "                                          return_sequences=True,\n",
    "                                          input_shape=x_train_multi.shape[-2:]))\n",
    "multi_step_model.add(tf.keras.layers.LSTM(16, activation='relu'))\n",
    "multi_step_model.add(tf.keras.layers.Dense(5))\n",
    "'''\n",
    "#multi_step_model.compile(optimizer=tf.keras.optimizers.RMSprop(clipvalue=1.0), \n",
    "#                    loss='mae')\n",
    "multi_step_model.compile(optimizer='adam', loss='mape')\n"
   ]
  },
  {
   "cell_type": "code",
   "execution_count": 193,
   "metadata": {},
   "outputs": [
    {
     "name": "stdout",
     "output_type": "stream",
     "text": [
      "(25, 5)\n"
     ]
    }
   ],
   "source": [
    "for x, y in val_data_multi.take(1):\n",
    "    print (multi_step_model.predict(x).shape)\n",
    "#查看预测结果的形状"
   ]
  },
  {
   "cell_type": "code",
   "execution_count": 194,
   "metadata": {},
   "outputs": [],
   "source": [
    "EPOCHS=10\n",
    "EVALUATION_INTERVAL = 300"
   ]
  },
  {
   "cell_type": "code",
   "execution_count": 195,
   "metadata": {},
   "outputs": [
    {
     "name": "stdout",
     "output_type": "stream",
     "text": [
      "Train for 300 steps, validate for 60 steps\n",
      "Epoch 1/10\n",
      "300/300 [==============================] - 457s 2s/step - loss: 77.9225 - val_loss: 22.8102\n",
      "Epoch 2/10\n",
      "300/300 [==============================] - 597s 2s/step - loss: 59.9693 - val_loss: 20.8906\n",
      "Epoch 3/10\n",
      "300/300 [==============================] - 603s 2s/step - loss: 58.9902 - val_loss: 19.7763\n",
      "Epoch 4/10\n",
      "300/300 [==============================] - 622s 2s/step - loss: 58.5380 - val_loss: 20.2633\n",
      "Epoch 5/10\n",
      "300/300 [==============================] - 589s 2s/step - loss: 57.1146 - val_loss: 17.0618\n",
      "Epoch 6/10\n",
      "300/300 [==============================] - 655s 2s/step - loss: 55.6475 - val_loss: 18.8693\n",
      "Epoch 7/10\n",
      "300/300 [==============================] - 945s 3s/step - loss: 52.5722 - val_loss: 17.9181\n",
      "Epoch 8/10\n",
      "300/300 [==============================] - 545s 2s/step - loss: 50.1759 - val_loss: 22.2191\n",
      "Epoch 9/10\n",
      "300/300 [==============================] - 491s 2s/step - loss: 49.0905 - val_loss: 17.6851\n",
      "Epoch 10/10\n",
      "300/300 [==============================] - 545s 2s/step - loss: 48.6086 - val_loss: 17.8175\n"
     ]
    }
   ],
   "source": [
    "multi_step_history = multi_step_model.fit(train_data_multi, epochs=EPOCHS,\n",
    "                                          steps_per_epoch=EVALUATION_INTERVAL,\n",
    "                                          validation_data=val_data_multi,\n",
    "                                          validation_steps=60)"
   ]
  },
  {
   "cell_type": "code",
   "execution_count": 196,
   "metadata": {},
   "outputs": [
    {
     "data": {
      "image/png": "[encoded data removed]",
      "text/plain": [
       "<Figure size 864x432 with 1 Axes>"
      ]
     },
     "metadata": {
      "needs_background": "light"
     },
     "output_type": "display_data"
    },
    {
     "data": {
      "image/png": "[encoded data removed]",
      "text/plain": [
       "<Figure size 864x432 with 1 Axes>"
      ]
     },
     "metadata": {
      "needs_background": "light"
     },
     "output_type": "display_data"
    }
   ],
   "source": [
    "# 散点图两组，第一批的第一条，第二批的第一条\n",
    "for x, y in val_data_multi.take(2):\n",
    "    multi_step_plot(x[0], y[0], multi_step_model.predict(x)[0])"
   ]
  },
  {
   "cell_type": "code",
   "execution_count": 197,
   "metadata": {},
   "outputs": [],
   "source": [
    "#暂时保存结果\n",
    "#model_MAE_Adam_1=multi_step_model\n",
    "#history_MAE_Adam_1=multi_step_history\n",
    "#model_MAE_Adam_2sd_hard\n",
    "#history_MAE_Adam_2sd_hard\n",
    "#model_MAE_Adam_sd_tanh=multi_step_model\n",
    "#history_MAE_Adam_sd_tanh = multi_step_history\n",
    "#model_MAPE_Adam_sd_softmax=multi_step_model\n",
    "#history_MAPE_Adam_sd_softmax=multi_step_history\n",
    "#IDK = multi_step_model"
   ]
  },
  {
   "cell_type": "code",
   "execution_count": 198,
   "metadata": {},
   "outputs": [
    {
     "data": {
      "image/png": "[encoded data removed]",
      "text/plain": [
       "<Figure size 432x288 with 1 Axes>"
      ]
     },
     "metadata": {
      "needs_background": "light"
     },
     "output_type": "display_data"
    }
   ],
   "source": [
    "plot_train_history(multi_step_history, 'Multi-Step Training and validation loss')"
   ]
  },
  {
   "cell_type": "code",
   "execution_count": 199,
   "metadata": {
    "scrolled": true
   },
   "outputs": [
    {
     "name": "stdout",
     "output_type": "stream",
     "text": [
      "WARNING:tensorflow:Layer rnn_11 is casting an input tensor from dtype float64 to the layer's dtype of float32, which is new behavior in TensorFlow 2.  The layer has dtype float32 because it's dtype defaults to floatx.\n",
      "\n",
      "If you intended to run this layer in float32, you can safely ignore this warning. If in doubt, this warning is likely only an issue if you are porting a TensorFlow 1.X model to TensorFlow 2.\n",
      "\n",
      "To change all layers to have dtype float64 by default, call `tf.keras.backend.set_floatx('float64')`. To change just this layer, pass dtype='float64' to the layer constructor. If you are the author of this layer, you can disable autocasting by passing autocast=False to the base Layer constructor.\n",
      "\n",
      "(25, 5)\n",
      "(25, 5)\n",
      "(25, 5)\n",
      "(25, 5)\n",
      "(25, 5)\n",
      "(25, 5)\n",
      "(25, 5)\n",
      "(25, 5)\n",
      "(25, 5)\n",
      "(25, 5)\n",
      "(25, 5)\n",
      "(25, 5)\n",
      "(25, 5)\n",
      "(25, 5)\n",
      "(25, 5)\n",
      "(25, 5)\n",
      "(25, 5)\n",
      "(25, 5)\n",
      "(25, 5)\n",
      "(25, 5)\n",
      "(25, 5)\n",
      "(25, 5)\n",
      "(25, 5)\n",
      "(25, 5)\n",
      "(25, 5)\n",
      "(25, 5)\n",
      "(25, 5)\n",
      "(25, 5)\n",
      "(5, 5)\n",
      "(5, 5)\n",
      "(355, 5)\n",
      "(355, 5)\n",
      "(355,)\n",
      "(355,)\n",
      "2795.7266781052344\n",
      "2669.485\n",
      "(355, 2)\n",
      "             0         1\n",
      "0  2756.095914  2702.301\n",
      "1  2795.726678  2669.485\n",
      "2  2801.954326  2664.800\n",
      "3  2826.549008  2656.110\n",
      "4  2847.273595  2686.578\n"
     ]
    }
   ],
   "source": [
    "# 数据导出\n",
    "# 多步预测的全部结果\n",
    "'''\n",
    "#之所以只取2个，因为只有2批\n",
    "#shape：因为测试集中刨去look_back=60, 1220-800-60-5=355 ，\n",
    "#为什么不是355+1=356？因为没有最后一条，也就是没有最后五天的预测，\n",
    "#但由于是多步预测，所以本质上只少了最后一天的预测\n",
    "#但为什么256-99会得到360？批次之间的序号问题导致的！应先合并再提取！\n",
    "#print(res)\n",
    "# 420-look_back-target = 类接力的维数\n",
    "'''\n",
    "validation_predictAll = np.array([])\n",
    "validation_realAll = np.array([])\n",
    "numVali = 1\n",
    "\n",
    "for x, y in val_data_multi.take(int((1220-800-univariate_past_history)/BATCH_SIZE)+1):\n",
    "    \n",
    "    res = multi_step_model(x)\n",
    "    #res = np.transpose(res)#转置\n",
    "    print(res.shape)\n",
    "    #y = np.transpose(y)\n",
    "    print(y.shape)\n",
    "    if numVali == 1:\n",
    "        validation_predictAll = res\n",
    "        validation_realAll = y\n",
    "    else:     \n",
    "        validation_predictAll = np.vstack((validation_predictAll, res))\n",
    "        validation_realAll = np.vstack((validation_realAll, y))\n",
    "    numVali = numVali + 1\n",
    "\n",
    "print(validation_predictAll.shape)\n",
    "print(validation_realAll.shape)\n",
    "\n",
    "# 多步预测的部分结果-转化为类接力集合\n",
    "validation_predict = np.array([])\n",
    "validation_real = np.array([])\n",
    "for i in range(validation_predictAll.shape[0]):\n",
    "    if i % future_target == 0:\n",
    "        validation_predict = np.concatenate([validation_predict, validation_predictAll[i]])#行向量连接\n",
    "        validation_real = np.concatenate([validation_real, validation_realAll[i]])\n",
    "\n",
    "print(validation_predict.shape) \n",
    "print(validation_real.shape)\n",
    "#应为testSize-lookBack-target=420-60-5=355, 缺最后1组target的预测值\n",
    "\n",
    "def recover_data(data, mean, std):\n",
    "    res = data * std + mean\n",
    "    return res\n",
    "\n",
    "validation_predict = recover_data(validation_predict, uni_train_mean, uni_train_std)\n",
    "validation_real = recover_data(validation_real, uni_train_mean, uni_train_std)\n",
    "print(validation_predict[1])\n",
    "print(validation_real[1])\n",
    "\n",
    "import pandas as pd\n",
    "#data = np.array([np.transpose(validation_predict), np.transpose(validation_real)])\n",
    "data = np.array([validation_predict, validation_real])\n",
    "data = np.transpose(data)\n",
    "print(data.shape)\n",
    "lstm_validation_result = pd.DataFrame(data)\n",
    "print(lstm_validation_result.head())\n"
   ]
  },
  {
   "cell_type": "code",
   "execution_count": 200,
   "metadata": {},
   "outputs": [],
   "source": [
    "lstm_validation_result.to_csv(\"slstm_multi_mape_adam_tanh_M1_T5_sd_hs2.csv\",\n",
    "                              index=False)"
   ]
  },
  {
   "cell_type": "markdown",
   "metadata": {},
   "source": [
    "# 多变量预测"
   ]
  },
  {
   "cell_type": "code",
   "execution_count": 2,
   "metadata": {},
   "outputs": [],
   "source": [
    "import tensorflow as tf\n",
    "\n",
    "import matplotlib as mpl\n",
    "import matplotlib.pyplot as plt\n",
    "import numpy as np\n",
    "import os\n",
    "import pandas as pd\n",
    "\n",
    "#filename = \"stock_sh.csv\"\n",
    "#filename=\"stockSZ.csv\"\n",
    "filename=\"stockJP.csv\"\n",
    "f=open(filename,encoding='UTF-8')\n",
    "#names=['Date','Close','Open','High','Low']\n",
    "names=['Date','SH','JP','NS']\n",
    "df = pd.read_csv(f,header=0)\n",
    "df = df[names]\n",
    "#df = df.set_index(\"Date\", drop = True)\n",
    "#df = df.set_index(\"Date\")\n",
    "#print(data[0])\n",
    "#df.head()\n",
    "TRAIN_SPLIT = 800 #这里应该改为1220*0.8\n",
    "tf.random.set_seed(13)\n",
    "\n",
    "#features_considered = ['Close', 'High', 'Low']\n",
    "#features_considered = ['SH', 'SZ', 'SZZX']\n",
    "features_considered = ['SH', 'JP', 'NS']"
   ]
  },
  {
   "cell_type": "code",
   "execution_count": 3,
   "metadata": {},
   "outputs": [
    {
     "data": {
      "text/html": [
       "<div>\n",
       "<style scoped>\n",
       "    .dataframe tbody tr th:only-of-type {\n",
       "        vertical-align: middle;\n",
       "    }\n",
       "\n",
       "    .dataframe tbody tr th {\n",
       "        vertical-align: top;\n",
       "    }\n",
       "\n",
       "    .dataframe thead th {\n",
       "        text-align: right;\n",
       "    }\n",
       "</style>\n",
       "<table border=\"1\" class=\"dataframe\">\n",
       "  <thead>\n",
       "    <tr style=\"text-align: right;\">\n",
       "      <th></th>\n",
       "      <th>SH</th>\n",
       "      <th>JP</th>\n",
       "      <th>NS</th>\n",
       "    </tr>\n",
       "    <tr>\n",
       "      <th>Date</th>\n",
       "      <th></th>\n",
       "      <th></th>\n",
       "      <th></th>\n",
       "    </tr>\n",
       "  </thead>\n",
       "  <tbody>\n",
       "    <tr>\n",
       "      <th>2015-03-09</th>\n",
       "      <td>3302.41</td>\n",
       "      <td>18790.55</td>\n",
       "      <td>4412.99</td>\n",
       "    </tr>\n",
       "    <tr>\n",
       "      <th>2015-03-10</th>\n",
       "      <td>3286.07</td>\n",
       "      <td>18665.11</td>\n",
       "      <td>4329.08</td>\n",
       "    </tr>\n",
       "    <tr>\n",
       "      <th>2015-03-11</th>\n",
       "      <td>3290.90</td>\n",
       "      <td>18723.52</td>\n",
       "      <td>4305.38</td>\n",
       "    </tr>\n",
       "    <tr>\n",
       "      <th>2015-03-12</th>\n",
       "      <td>3349.32</td>\n",
       "      <td>18991.11</td>\n",
       "      <td>4336.23</td>\n",
       "    </tr>\n",
       "    <tr>\n",
       "      <th>2015-03-13</th>\n",
       "      <td>3372.91</td>\n",
       "      <td>19254.25</td>\n",
       "      <td>4314.90</td>\n",
       "    </tr>\n",
       "  </tbody>\n",
       "</table>\n",
       "</div>"
      ],
      "text/plain": [
       "                 SH        JP       NS\n",
       "Date                                  \n",
       "2015-03-09  3302.41  18790.55  4412.99\n",
       "2015-03-10  3286.07  18665.11  4329.08\n",
       "2015-03-11  3290.90  18723.52  4305.38\n",
       "2015-03-12  3349.32  18991.11  4336.23\n",
       "2015-03-13  3372.91  19254.25  4314.90"
      ]
     },
     "execution_count": 3,
     "metadata": {},
     "output_type": "execute_result"
    }
   ],
   "source": [
    "features = df[features_considered]\n",
    "features.index = df['Date']\n",
    "features.head()"
   ]
  },
  {
   "cell_type": "code",
   "execution_count": 4,
   "metadata": {},
   "outputs": [
    {
     "data": {
      "text/plain": [
       "array([<matplotlib.axes._subplots.AxesSubplot object at 0x110a80eb8>,\n",
       "       <matplotlib.axes._subplots.AxesSubplot object at 0x136d65e48>,\n",
       "       <matplotlib.axes._subplots.AxesSubplot object at 0x136d992e8>],\n",
       "      dtype=object)"
      ]
     },
     "execution_count": 4,
     "metadata": {},
     "output_type": "execute_result"
    },
    {
     "data": {
      "image/png": "[encoded data removed]",
      "text/plain": [
       "<Figure size 432x288 with 3 Axes>"
      ]
     },
     "metadata": {
      "needs_background": "light"
     },
     "output_type": "display_data"
    }
   ],
   "source": [
    "features.plot(subplots=True)"
   ]
  },
  {
   "cell_type": "code",
   "execution_count": 5,
   "metadata": {},
   "outputs": [],
   "source": [
    "dataset = features.values\n",
    "data_mean = dataset[:TRAIN_SPLIT].mean(axis=0)\n",
    "data_std = dataset[:TRAIN_SPLIT].std(axis=0)"
   ]
  },
  {
   "cell_type": "code",
   "execution_count": 6,
   "metadata": {},
   "outputs": [],
   "source": [
    "dataset = (dataset-data_mean)/data_std"
   ]
  },
  {
   "cell_type": "code",
   "execution_count": 7,
   "metadata": {},
   "outputs": [
    {
     "data": {
      "text/html": [
       "<div>\n",
       "<style scoped>\n",
       "    .dataframe tbody tr th:only-of-type {\n",
       "        vertical-align: middle;\n",
       "    }\n",
       "\n",
       "    .dataframe tbody tr th {\n",
       "        vertical-align: top;\n",
       "    }\n",
       "\n",
       "    .dataframe thead th {\n",
       "        text-align: right;\n",
       "    }\n",
       "</style>\n",
       "<table border=\"1\" class=\"dataframe\">\n",
       "  <thead>\n",
       "    <tr style=\"text-align: right;\">\n",
       "      <th></th>\n",
       "      <th>0</th>\n",
       "      <th>1</th>\n",
       "      <th>2</th>\n",
       "    </tr>\n",
       "  </thead>\n",
       "  <tbody>\n",
       "    <tr>\n",
       "      <th>0</th>\n",
       "      <td>-0.035705</td>\n",
       "      <td>-0.249777</td>\n",
       "      <td>-0.891149</td>\n",
       "    </tr>\n",
       "    <tr>\n",
       "      <th>1</th>\n",
       "      <td>-0.074317</td>\n",
       "      <td>-0.310488</td>\n",
       "      <td>-0.991343</td>\n",
       "    </tr>\n",
       "    <tr>\n",
       "      <th>2</th>\n",
       "      <td>-0.062903</td>\n",
       "      <td>-0.282218</td>\n",
       "      <td>-1.019642</td>\n",
       "    </tr>\n",
       "    <tr>\n",
       "      <th>3</th>\n",
       "      <td>0.075143</td>\n",
       "      <td>-0.152710</td>\n",
       "      <td>-0.982805</td>\n",
       "    </tr>\n",
       "    <tr>\n",
       "      <th>4</th>\n",
       "      <td>0.130886</td>\n",
       "      <td>-0.025354</td>\n",
       "      <td>-1.008274</td>\n",
       "    </tr>\n",
       "  </tbody>\n",
       "</table>\n",
       "</div>"
      ],
      "text/plain": [
       "          0         1         2\n",
       "0 -0.035705 -0.249777 -0.891149\n",
       "1 -0.074317 -0.310488 -0.991343\n",
       "2 -0.062903 -0.282218 -1.019642\n",
       "3  0.075143 -0.152710 -0.982805\n",
       "4  0.130886 -0.025354 -1.008274"
      ]
     },
     "execution_count": 7,
     "metadata": {},
     "output_type": "execute_result"
    }
   ],
   "source": [
    "# 标准化后的值\n",
    "a = pd.DataFrame(dataset)\n",
    "a.head()"
   ]
  },
  {
   "cell_type": "code",
   "execution_count": 8,
   "metadata": {},
   "outputs": [],
   "source": [
    "def multivariate_data(dataset, target, start_index, end_index, history_size,\n",
    "                      target_size, step=1, single_step=False):\n",
    "    '''\n",
    "    dataset: 自变量\n",
    "    target: 因变量\n",
    "    start_index: 训练集或测试集的第一条所在行\n",
    "    end_index: 训练集或测试集的最后一条所在行\n",
    "    history_size: 输入网络的时间跨度，即RNN循环层长度\n",
    "    target_size: 远期预测的时间跨度，若为下一期，则为0（且single_step=True）\n",
    "    step: 间隔跨度，若连续，则为1\n",
    "    single_step: 是否单步预测\n",
    "    '''\n",
    "    data = []\n",
    "    labels = []\n",
    "    \n",
    "    start_index = start_index + history_size\n",
    "    if end_index is None:\n",
    "        end_index = len(dataset) - target_size\n",
    "\n",
    "    for i in range(start_index, end_index):\n",
    "        indices = range(i-history_size, i, step)\n",
    "        data.append(dataset[indices])\n",
    "\n",
    "        if single_step:\n",
    "            labels.append(target[i+target_size])\n",
    "        else:\n",
    "            labels.append(target[i:i+target_size])\n",
    "\n",
    "    return np.array(data), np.array(labels)"
   ]
  },
  {
   "cell_type": "code",
   "execution_count": 9,
   "metadata": {},
   "outputs": [],
   "source": [
    "past_history = 60\n",
    "future_target = 5\n",
    "#若要直接预测下一周的周一，则为5，single_step=False；否则为0,single_step=True\n",
    "STEP = 1\n",
    "\n",
    "x_train_single, y_train_single = multivariate_data(dataset, dataset[:, 0], 0,\n",
    "                                                   TRAIN_SPLIT, past_history,\n",
    "                                                   future_target, STEP,\n",
    "                                                   single_step = False)\n",
    "x_val_single, y_val_single = multivariate_data(dataset, dataset[:, 0],\n",
    "                                               TRAIN_SPLIT, None, past_history,\n",
    "                                               future_target, STEP,\n",
    "                                               single_step = False)"
   ]
  },
  {
   "cell_type": "code",
   "execution_count": 10,
   "metadata": {},
   "outputs": [
    {
     "name": "stdout",
     "output_type": "stream",
     "text": [
      "x_val_single，训练集中第一条样本的训练值\n",
      "[[-0.64594905  1.72864572  2.15437494]\n",
      " [-0.69854936  1.77125068  2.14125221]\n",
      " [-0.96812001  1.66101404  2.15535407]\n",
      " [-0.94942871  1.71577179  2.06480844]\n",
      " [-1.04375953  1.63280755  2.11427838]\n",
      " [-1.01079573  1.43831928  2.08043869]\n",
      " [-1.08267809  1.57235817  2.03819282]\n",
      " [-1.11772132  1.63895897  2.08509553]\n",
      " [-1.19175401  1.55367645  2.07087427]\n",
      " [-1.25385356  1.4671985   2.14252986]\n",
      " [-1.110845    1.46906183  2.1378372 ]\n",
      " [-1.28064994  1.43507176  2.15123456]\n",
      " [-1.25387719  1.43440386  2.11018275]\n",
      " [-1.31947398  1.45091734  2.1696828 ]\n",
      " [-1.37913964  1.21251735  2.15936612]\n",
      " [-1.34759364  1.19974506  2.29811599]\n",
      " [-1.18719343  1.16659227  2.36932978]\n",
      " [-1.15760871  1.08429109  2.39700811]\n",
      " [-1.27542772  1.20100341  2.44874677]\n",
      " [-1.13390785  1.32879409  2.38038678]\n",
      " [-1.14922007  1.39883117  2.38013603]\n",
      " [-1.18972183  1.27073074  2.39907383]\n",
      " [-1.22731711  1.3945092   2.44767211]\n",
      " [-1.25300288  1.59264671  2.44299139]\n",
      " [-1.28776256  1.64104977  2.53174594]\n",
      " [-1.15373339  1.68791378  2.50329147]\n",
      " [-1.08220549  1.67363146  2.4980973 ]\n",
      " [-0.97346038  1.64130144  2.4701921 ]\n",
      " [-0.9779737   1.49567602  2.53307134]\n",
      " [-1.02858909  1.55060317  2.45759476]\n",
      " [-1.04900538  1.60082601  2.43373742]\n",
      " [-1.05973339  1.58757457  2.24347576]\n",
      " [-1.04236536  1.64849826  2.27933341]\n",
      " [-1.164934    1.5672328   2.1616826 ]\n",
      " [-1.29846694  1.57153056  2.23563078]\n",
      " [-1.36363838  1.66492946  2.24661614]\n",
      " [-1.4470049   1.55159533  2.31470149]\n",
      " [-1.27164692  1.5577177   2.21527205]\n",
      " [-1.35506071  1.54907378  2.31855831]\n",
      " [-1.23617835  1.62429431  2.4454631 ]\n",
      " [-1.23398076  1.61537451  2.52745926]\n",
      " [-1.25628745  1.59315005  2.53534006]\n",
      " [-1.26786613  1.44780533  2.48922543]\n",
      " [-1.40423466  1.23453854  2.63522325]\n",
      " [-1.44693401  1.4758763   2.64665041]\n",
      " [-1.53252175  1.40237876  2.62525284]\n",
      " [-1.46281335  1.39648385  2.6801677 ]\n",
      " [-1.37925779  1.43439902  2.66373742]\n",
      " [-1.42467459  1.39985237  2.61863774]\n",
      " [-1.40102099  1.40988532  2.6160944 ]\n",
      " [-1.38965498  1.47900767  2.64182641]\n",
      " [-1.26803154  1.50236949  2.68298568]\n",
      " [-1.27493149  1.59478591  2.80518587]\n",
      " [-1.2954423   1.69055148  2.67641835]\n",
      " [-1.37001847  1.69724495  2.55227184]\n",
      " [-1.3995323   1.71406334  2.42847161]\n",
      " [-1.41021305  1.72436248  2.4748967 ]\n",
      " [-1.3396776   1.72225716  2.52374573]\n",
      " [-1.44894256  1.64589927  2.64226821]\n",
      " [-1.47907077  1.64082714  2.67013759]]\n",
      "x_val_single，训练集中第一条样本的标签\n",
      "[-1.45376307 -1.53129299 -1.54237545 -1.56290989 -1.49090938]\n"
     ]
    }
   ],
   "source": [
    "#Let's look at a single data-point.\n",
    "#训练集中的每一条记录都是一个60x3的矩阵，60是60天，3是3个特征变量。注意，不是3x60。\n",
    "print('x_val_single，训练集中第一条样本的训练值')\n",
    "print(x_val_single[0])\n",
    "print('x_val_single，训练集中第一条样本的标签')\n",
    "print(y_val_single[0])"
   ]
  },
  {
   "cell_type": "code",
   "execution_count": 11,
   "metadata": {},
   "outputs": [
    {
     "data": {
      "text/plain": [
       "array([2702.3 , 2669.49, 2664.8 , 2656.11, 2686.58])"
      ]
     },
     "execution_count": 11,
     "metadata": {},
     "output_type": "execute_result"
    }
   ],
   "source": [
    "# 对验证集中标签内容进行还原\n",
    "y_val_single[0]*data_std[0] + data_mean[0]\n"
   ]
  },
  {
   "cell_type": "code",
   "execution_count": 12,
   "metadata": {},
   "outputs": [
    {
     "name": "stdout",
     "output_type": "stream",
     "text": [
      "Single window of past history : (60, 3)\n"
     ]
    }
   ],
   "source": [
    "print ('Single window of past history : {}'.format(x_train_single[0].shape))"
   ]
  },
  {
   "cell_type": "code",
   "execution_count": 13,
   "metadata": {},
   "outputs": [],
   "source": [
    "BATCH_SIZE = 50\n",
    "BUFFER_SIZE = 1000"
   ]
  },
  {
   "cell_type": "code",
   "execution_count": 14,
   "metadata": {},
   "outputs": [],
   "source": [
    "train_data_single = tf.data.Dataset.from_tensor_slices((x_train_single, y_train_single))\n",
    "train_data_single = train_data_single.cache().shuffle(BUFFER_SIZE).batch(BATCH_SIZE).repeat()\n",
    "\n",
    "val_data_single = tf.data.Dataset.from_tensor_slices((x_val_single, y_val_single))\n",
    "val_data_single = val_data_single.batch(BATCH_SIZE).repeat()"
   ]
  },
  {
   "cell_type": "code",
   "execution_count": 15,
   "metadata": {},
   "outputs": [],
   "source": [
    "# 考虑到有多个变量，将units提升到32\n",
    "#SLSTMLayer32 = tf.keras.layers.RNN(\n",
    "#    SLSTMCell(32,implementation=1,dropout=0.,use_bias=1), \n",
    "#    input_shape = x_train_single.shape[-2:], \n",
    "#    dynamic=True)"
   ]
  },
  {
   "cell_type": "code",
   "execution_count": 16,
   "metadata": {},
   "outputs": [],
   "source": [
    "#single_step_model = tf.keras.models.Sequential([\n",
    "#    SLSTMLayer,\n",
    "#    tf.keras.layers.Dense(future_target)\n",
    "#])"
   ]
  },
  {
   "cell_type": "code",
   "execution_count": 17,
   "metadata": {},
   "outputs": [
    {
     "name": "stdout",
     "output_type": "stream",
     "text": [
      "build start\n",
      "build end\n",
      "build start\n",
      "build end\n"
     ]
    }
   ],
   "source": [
    "# 多步预测使用两层LSTM，第一次为32维输出，第二层为16层输出\n",
    "# 模式2为c, 模式1为x或h\n",
    "single_step_model = tf.keras.models.Sequential([\n",
    "    tf.keras.layers.RNN(\n",
    "        SLSTMCell(32,implementation=1,dropout=0.,use_bias=1),\n",
    "        return_sequences=True,\n",
    "        input_shape = x_train_single.shape[-2:], \n",
    "        dynamic=True),\n",
    "    tf.keras.layers.RNN(\n",
    "        SLSTMCell(16,implementation=1,dropout=0.,use_bias=1), #可对activation进行调整\n",
    "        dynamic=True),\n",
    "    tf.keras.layers.Dense(future_target)\n",
    "\n",
    "])"
   ]
  },
  {
   "cell_type": "code",
   "execution_count": 18,
   "metadata": {},
   "outputs": [
    {
     "name": "stdout",
     "output_type": "stream",
     "text": [
      "Model: \"sequential\"\n",
      "_________________________________________________________________\n",
      "Layer (type)                 Output Shape              Param #   \n",
      "=================================================================\n",
      "rnn (RNN)                    (None, 60, 32)            6912      \n",
      "_________________________________________________________________\n",
      "rnn_1 (RNN)                  (None, 16)                4704      \n",
      "_________________________________________________________________\n",
      "dense (Dense)                (None, 5)                 85        \n",
      "=================================================================\n",
      "Total params: 11,701\n",
      "Trainable params: 11,701\n",
      "Non-trainable params: 0\n",
      "_________________________________________________________________\n"
     ]
    }
   ],
   "source": [
    "single_step_model.summary()"
   ]
  },
  {
   "cell_type": "code",
   "execution_count": 19,
   "metadata": {},
   "outputs": [],
   "source": [
    "#single_step_model = tf.keras.models.Sequential()\n",
    "#single_step_model.add(tf.keras.layers.LSTM(32,\n",
    "#                                           input_shape=x_train_single.shape[-2:]))\n",
    "#single_step_model.add(tf.keras.layers.Dense(1))"
   ]
  },
  {
   "cell_type": "code",
   "execution_count": 20,
   "metadata": {},
   "outputs": [],
   "source": [
    "single_step_model.compile(optimizer='Adam', loss='mape')"
   ]
  },
  {
   "cell_type": "code",
   "execution_count": 21,
   "metadata": {},
   "outputs": [
    {
     "name": "stdout",
     "output_type": "stream",
     "text": [
      "(50, 5)\n"
     ]
    }
   ],
   "source": [
    "for x, y in val_data_single.take(1):\n",
    "    print(single_step_model.predict(x).shape)"
   ]
  },
  {
   "cell_type": "code",
   "execution_count": 22,
   "metadata": {},
   "outputs": [],
   "source": [
    "EPOCHS=10\n",
    "EVALUATION_INTERVAL = 300"
   ]
  },
  {
   "cell_type": "code",
   "execution_count": 23,
   "metadata": {},
   "outputs": [
    {
     "name": "stdout",
     "output_type": "stream",
     "text": [
      "Train for 300 steps, validate for 60 steps\n",
      "Epoch 1/10\n",
      "300/300 [==============================] - 466s 2s/step - loss: 91.4152 - val_loss: 56.5582\n",
      "Epoch 2/10\n",
      "300/300 [==============================] - 385s 1s/step - loss: 64.6377 - val_loss: 23.9605\n",
      "Epoch 3/10\n",
      "300/300 [==============================] - 405s 1s/step - loss: 55.6238 - val_loss: 30.0075\n",
      "Epoch 4/10\n",
      "300/300 [==============================] - 437s 1s/step - loss: 52.4428 - val_loss: 32.2900\n",
      "Epoch 5/10\n",
      "300/300 [==============================] - 442s 1s/step - loss: 50.8839 - val_loss: 36.8326\n",
      "Epoch 6/10\n",
      "300/300 [==============================] - 415s 1s/step - loss: 48.5487 - val_loss: 28.7126\n",
      "Epoch 7/10\n",
      "300/300 [==============================] - 450s 2s/step - loss: 47.2705 - val_loss: 26.1039\n",
      "Epoch 8/10\n",
      "300/300 [==============================] - 439s 1s/step - loss: 42.7487 - val_loss: 24.3474\n",
      "Epoch 9/10\n",
      "300/300 [==============================] - 438s 1s/step - loss: 41.2244 - val_loss: 24.8316\n",
      "Epoch 10/10\n",
      "300/300 [==============================] - 480s 2s/step - loss: 40.8287 - val_loss: 25.0797\n"
     ]
    }
   ],
   "source": [
    "single_step_history = single_step_model.fit(train_data_single, epochs=EPOCHS,\n",
    "                                            steps_per_epoch=EVALUATION_INTERVAL,\n",
    "                                            validation_data=val_data_single,\n",
    "                                            validation_steps=60)"
   ]
  },
  {
   "cell_type": "code",
   "execution_count": 152,
   "metadata": {
    "code_folding": [
     0
    ],
    "collapsed": true
   },
   "outputs": [
    {
     "ename": "NameError",
     "evalue": "name 'plot_train_history' is not defined",
     "output_type": "error",
     "traceback": [
      "\u001b[0;31m---------------------------------------------------------------------------\u001b[0m",
      "\u001b[0;31mNameError\u001b[0m                                 Traceback (most recent call last)",
      "\u001b[0;32m<ipython-input-152-191e8eee7d3d>\u001b[0m in \u001b[0;36m<module>\u001b[0;34m\u001b[0m\n\u001b[0;32m----> 1\u001b[0;31m plot_train_history(single_step_history,\n\u001b[0m\u001b[1;32m      2\u001b[0m                    'Multivariate Model Training and validation loss')\n",
      "\u001b[0;31mNameError\u001b[0m: name 'plot_train_history' is not defined"
     ]
    }
   ],
   "source": [
    "plot_train_history(single_step_history,\n",
    "                   'Multivariate Model Training and validation loss')"
   ]
  },
  {
   "cell_type": "code",
   "execution_count": 176,
   "metadata": {
    "code_folding": [
     0
    ]
   },
   "outputs": [
    {
     "name": "stdout",
     "output_type": "stream",
     "text": [
      "WARNING:tensorflow:Layer rnn_16 is casting an input tensor from dtype float64 to the layer's dtype of float32, which is new behavior in TensorFlow 2.  The layer has dtype float32 because it's dtype defaults to floatx.\n",
      "\n",
      "If you intended to run this layer in float32, you can safely ignore this warning. If in doubt, this warning is likely only an issue if you are porting a TensorFlow 1.X model to TensorFlow 2.\n",
      "\n",
      "To change all layers to have dtype float64 by default, call `tf.keras.backend.set_floatx('float64')`. To change just this layer, pass dtype='float64' to the layer constructor. If you are the author of this layer, you can disable autocasting by passing autocast=False to the base Layer constructor.\n",
      "\n",
      "tf.Tensor(\n",
      "[[-0.9584019  -0.9205079  -0.92020166 -0.9236091  -0.9431862 ]\n",
      " [-0.9603628  -0.9232076  -0.9225379  -0.9277484  -0.9470658 ]\n",
      " [-1.0036194  -0.9620479  -0.9590054  -0.9592751  -0.97650856]\n",
      " [-1.0068568  -0.9657874  -0.95987153 -0.966394   -0.9811351 ]\n",
      " [-1.0163686  -0.97475606 -0.9673524  -0.9747612  -0.9882161 ]\n",
      " [-0.9628655  -0.92868245 -0.9273293  -0.94501907 -0.9583992 ]\n",
      " [-0.9884321  -0.95123875 -0.9520471  -0.9602664  -0.9735789 ]\n",
      " [-1.0005494  -0.96174645 -0.9618446  -0.9711775  -0.9830186 ]\n",
      " [-0.93072474 -0.90098625 -0.9052743  -0.92679197 -0.94033825]\n",
      " [-0.901006   -0.87388164 -0.88436353 -0.90071577 -0.91779345]\n",
      " [-0.8957812  -0.867934   -0.8805301  -0.8903397  -0.90990037]\n",
      " [-0.8125364  -0.793271   -0.80877274 -0.82761115 -0.85054034]\n",
      " [-0.8473296  -0.82095575 -0.8374738  -0.8367314  -0.8633484 ]\n",
      " [-0.79527026 -0.7728122  -0.7873508  -0.7929585  -0.8217637 ]\n",
      " [-0.8276788  -0.79885346 -0.8114167  -0.80211145 -0.8344011 ]\n",
      " [-0.78626215 -0.7603802  -0.7706248  -0.7667038  -0.8003778 ]\n",
      " [-0.90685725 -0.86549723 -0.8710698  -0.84073186 -0.8793105 ]\n",
      " [-0.8626499  -0.8284685  -0.82783246 -0.81689084 -0.8553644 ]\n",
      " [-0.88799727 -0.85184914 -0.8492882  -0.83143026 -0.8736011 ]\n",
      " [-1.0403156  -0.9875708  -0.97817475 -0.9421312  -0.9815641 ]\n",
      " [-0.991286   -0.9487007  -0.93383855 -0.92893875 -0.96387744]\n",
      " [-1.0776958  -1.0272584  -1.0039226  -0.98520976 -1.0176753 ]\n",
      " [-1.0802147  -1.0329529  -1.0048697  -0.99405295 -1.0209649 ]\n",
      " [-1.0652235  -1.0211886  -0.9967689  -0.9938367  -1.0166835 ]\n",
      " [-1.1798446  -1.1238612  -1.0804348  -1.0529344  -1.0728092 ]], shape=(25, 5), dtype=float32)\n"
     ]
    }
   ],
   "source": [
    "for x, y in val_data_single.take(1):\n",
    "    print(single_step_model(x))\n",
    "    #slstm_model"
   ]
  },
  {
   "cell_type": "markdown",
   "metadata": {},
   "source": [
    "## 单步预测的结果输出"
   ]
  },
  {
   "cell_type": "code",
   "execution_count": 53,
   "metadata": {},
   "outputs": [
    {
     "name": "stdout",
     "output_type": "stream",
     "text": [
      "15\n",
      "(360,)\n",
      "(360,)\n",
      "2726.3367330828896\n",
      "2697.163585643052\n",
      "(360, 2)\n",
      "             0            1\n",
      "0  2720.372275  2721.586588\n",
      "1  2726.336733  2697.163586\n",
      "2  2701.500454  2674.939110\n",
      "3  2696.260282  2666.674943\n",
      "4  2688.069992  2683.193554\n"
     ]
    }
   ],
   "source": [
    "validation_predict = np.array([])\n",
    "validation_real = np.array([])\n",
    "\n",
    "print(int((1220-800-univariate_past_history)/25)+1)\n",
    "for x, y in val_data_single.take(int((1220-800-univariate_past_history)/BATCH_SIZE)+1):\n",
    "    res = single_step_model.predict(x)\n",
    "    res = np.transpose(res)#转置\n",
    "    y = np.transpose(y)\n",
    "    \n",
    "    validation_predict = np.concatenate([validation_predict, res[0]])#向量连接\n",
    "    validation_real = np.concatenate([validation_real, y])\n",
    "    \n",
    "print(validation_predict.shape) \n",
    "#之所以只有2批，因为测试集中刨去look_back=60, 1220-800-60=360，而批容量为256；\n",
    "#当批容量为25，则为360/\n",
    "#print(res)\n",
    "print(validation_real.shape)\n",
    "def recover_data(data, mean, std):\n",
    "    res = data * std + mean\n",
    "    return res\n",
    "validation_predict = recover_data(validation_predict, uni_train_mean, uni_train_std)\n",
    "validation_real = recover_data(validation_real, uni_train_mean, uni_train_std)\n",
    "print(validation_predict[1])\n",
    "print(validation_real[1])\n",
    "import pandas as pd\n",
    "#data = np.array([np.transpose(validation_predict), np.transpose(validation_real)])\n",
    "data = np.array([validation_predict, validation_real])\n",
    "data = np.transpose(data)\n",
    "print(data.shape)\n",
    "#slstm_validation_result = pd.DataFrame(data, columns=c(\"predict\",\"real\"))\n",
    "slstm_validation_result = pd.DataFrame(data)\n",
    "print(slstm_validation_result.head())\n"
   ]
  },
  {
   "cell_type": "code",
   "execution_count": 54,
   "metadata": {
    "code_folding": []
   },
   "outputs": [],
   "source": [
    "slstm_validation_result.to_csv(\"Multivariate_slstm_sigle_mape_adam_tanh_T1_RM1_sd_tanh.csv\",\n",
    "                              index=False)"
   ]
  },
  {
   "cell_type": "markdown",
   "metadata": {},
   "source": [
    "## 多步预测的结果输出"
   ]
  },
  {
   "cell_type": "code",
   "execution_count": 25,
   "metadata": {},
   "outputs": [
    {
     "name": "stdout",
     "output_type": "stream",
     "text": [
      "WARNING:tensorflow:Layer rnn is casting an input tensor from dtype float64 to the layer's dtype of float32, which is new behavior in TensorFlow 2.  The layer has dtype float32 because it's dtype defaults to floatx.\n",
      "\n",
      "If you intended to run this layer in float32, you can safely ignore this warning. If in doubt, this warning is likely only an issue if you are porting a TensorFlow 1.X model to TensorFlow 2.\n",
      "\n",
      "To change all layers to have dtype float64 by default, call `tf.keras.backend.set_floatx('float64')`. To change just this layer, pass dtype='float64' to the layer constructor. If you are the author of this layer, you can disable autocasting by passing autocast=False to the base Layer constructor.\n",
      "\n",
      "(50, 5)\n",
      "(50, 5)\n",
      "(50, 5)\n",
      "(50, 5)\n",
      "(50, 5)\n",
      "(50, 5)\n",
      "(50, 5)\n",
      "(50, 5)\n",
      "(50, 5)\n",
      "(50, 5)\n",
      "(50, 5)\n",
      "(50, 5)\n",
      "(50, 5)\n",
      "(50, 5)\n",
      "(5, 5)\n",
      "(5, 5)\n",
      "(355, 5)\n",
      "(355, 5)\n",
      "(355,)\n",
      "(355,)\n",
      "2863.275730629287\n",
      "2669.49\n",
      "(355, 2)\n",
      "             0        1\n",
      "0  2845.462518  2702.30\n",
      "1  2863.275731  2669.49\n",
      "2  2897.518610  2664.80\n",
      "3  2897.968307  2656.11\n",
      "4  2888.518422  2686.58\n"
     ]
    }
   ],
   "source": [
    "# 数据导出--多步预测\n",
    "# 多步预测的全部结果\n",
    "'''\n",
    "#之所以只取2个，因为只有2批\n",
    "#shape：因为测试集中刨去look_back=60, 1220-800-60-5=355 ，\n",
    "#为什么不是355+1=356？因为没有最后一条，也就是没有最后五天的预测，\n",
    "#但由于是多步预测，所以本质上只少了最后一天的预测\n",
    "#但为什么256-99会得到360？批次之间的序号问题导致的！应先合并再提取！\n",
    "#print(res)\n",
    "# 420-look_back-target = 类接力的维数\n",
    "'''\n",
    "univariate_past_history = 60\n",
    "validation_predictAll = np.array([])\n",
    "validation_realAll = np.array([])\n",
    "numVali = 1\n",
    "\n",
    "for x, y in val_data_single.take(int((1220-800-univariate_past_history-future_target)/BATCH_SIZE)+1):\n",
    "    \n",
    "    res = single_step_model(x) #代码重用\n",
    "    #res = np.transpose(res)#转置\n",
    "    print(res.shape)\n",
    "    #y = np.transpose(y)\n",
    "    print(y.shape)\n",
    "    if numVali == 1:\n",
    "        validation_predictAll = res\n",
    "        validation_realAll = y\n",
    "    else:     \n",
    "        validation_predictAll = np.vstack((validation_predictAll, res))\n",
    "        validation_realAll = np.vstack((validation_realAll, y))\n",
    "    numVali = numVali + 1\n",
    "\n",
    "print(validation_predictAll.shape)\n",
    "print(validation_realAll.shape)\n",
    "\n",
    "# 多步预测的部分结果-转化为类接力集合\n",
    "validation_predict = np.array([])\n",
    "validation_real = np.array([])\n",
    "for i in range(validation_predictAll.shape[0]):\n",
    "    if i % future_target == 0:\n",
    "        validation_predict = np.concatenate([validation_predict, validation_predictAll[i]])#行向量连接\n",
    "        validation_real = np.concatenate([validation_real, validation_realAll[i]])\n",
    "\n",
    "print(validation_predict.shape) \n",
    "print(validation_real.shape)\n",
    "#应为testSize-lookBack-target=420-60-5=355, 缺最后1组target的预测值\n",
    "\n",
    "def recover_data(data, mean, std):\n",
    "    res = data * std + mean\n",
    "    return res\n",
    "\n",
    "validation_predict = recover_data(validation_predict, data_mean[0], data_std[0])\n",
    "validation_real = recover_data(validation_real, data_mean[0], data_std[0])\n",
    "print(validation_predict[1])\n",
    "print(validation_real[1])\n",
    "\n",
    "import pandas as pd\n",
    "#data = np.array([np.transpose(validation_predict), np.transpose(validation_real)])\n",
    "data = np.array([validation_predict, validation_real])\n",
    "data = np.transpose(data)\n",
    "print(data.shape)\n",
    "lstm_validation_result = pd.DataFrame(data)\n",
    "print(lstm_validation_result.head())\n"
   ]
  },
  {
   "cell_type": "code",
   "execution_count": 26,
   "metadata": {},
   "outputs": [],
   "source": [
    "lstm_validation_result.to_csv(\"Multivariate_slstm_multi_mape_adam_tanh_T5NEW_M1S_sdb2_tanh.csv\",\n",
    "                              index=False)"
   ]
  },
  {
   "cell_type": "code",
   "execution_count": null,
   "metadata": {},
   "outputs": [],
   "source": []
  }
 ],
 "metadata": {
  "kernelspec": {
   "display_name": "Python 3",
   "language": "python",
   "name": "python3"
  },
  "language_info": {
   "codemirror_mode": {
    "name": "ipython",
    "version": 3
   },
   "file_extension": ".py",
   "mimetype": "text/x-python",
   "name": "python",
   "nbconvert_exporter": "python",
   "pygments_lexer": "ipython3",
   "version": "3.7.3"
  },
  "toc": {
   "base_numbering": 1,
   "nav_menu": {},
   "number_sections": true,
   "sideBar": true,
   "skip_h1_title": false,
   "title_cell": "Table of Contents",
   "title_sidebar": "Contents",
   "toc_cell": false,
   "toc_position": {},
   "toc_section_display": true,
   "toc_window_display": true
  }
 },
 "nbformat": 4,
 "nbformat_minor": 2
}
